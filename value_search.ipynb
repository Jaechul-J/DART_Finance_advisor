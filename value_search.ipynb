{
 "cells": [
  {
   "cell_type": "code",
   "execution_count": null,
   "id": "1bd9767b",
   "metadata": {},
   "outputs": [],
   "source": [
    "import pandas as pd\n",
    "import numpy as np\n",
    "import glob\n",
    "\n",
    "# Read in Raw Data downloaded from FSS\n",
    "df_std = pd.read_excel(r\"VALUESearch.xlsx\")\n",
    "\n",
    "# Specify the column that needs renaming\n",
    "old_column_name = '691005.업체명'\n",
    "new_column_name = old_column_name.replace('691005.', '')\n",
    "df_std.rename(columns={old_column_name: new_column_name}, inplace=True)\n",
    "\n",
    "# Use REGEX to substitute substring\n",
    "pattern1 = r'/[^/]+?\\.'\n",
    "pattern2 = r'\\d+\\.\\w+-'\n",
    "pattern3 = r'\\(.*?\\)'\n",
    "pattern4 = r'^[A-Za-z]\\d{5}\\.'\n",
    "df_std.columns = df_std.columns.str.replace(pattern1, '', regex=True)\n",
    "df_std.columns = df_std.columns.str.replace(pattern2, '', regex=True)\n",
    "df_std.columns = df_std.columns.str.replace(pattern3, '', regex=True)\n",
    "df_std['대분류'] = df_std['대분류'].str.replace(pattern3, '', regex=True)\n",
    "df_std['대분류'] = df_std['대분류'].str.replace(pattern4, '', regex=True)\n",
    "df_std['중분류'] = df_std['중분류'].str.replace(pattern4, '', regex=True)\n",
    "df_std['소분류'] = df_std['소분류'].str.replace(pattern4, '', regex=True)\n",
    "df_std"
   ]
  }
 ],
 "metadata": {
  "language_info": {
   "name": "python"
  }
 },
 "nbformat": 4,
 "nbformat_minor": 5
}
